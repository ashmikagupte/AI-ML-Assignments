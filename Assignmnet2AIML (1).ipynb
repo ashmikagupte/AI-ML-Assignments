{
  "nbformat": 4,
  "nbformat_minor": 0,
  "metadata": {
    "colab": {
      "name": "Assignmnet2AIML.ipynb",
      "provenance": [],
      "collapsed_sections": []
    },
    "kernelspec": {
      "name": "python3",
      "display_name": "Python 3"
    },
    "language_info": {
      "name": "python"
    }
  },
  "cells": [
    {
      "cell_type": "markdown",
      "metadata": {
        "id": "_rcD2NHTGW2o"
      },
      "source": [
        "**Assignmnet 2**"
      ]
    },
    {
      "cell_type": "markdown",
      "metadata": {
        "id": "SfoAELmRGfQH"
      },
      "source": [
        "Name    : Ashmika Gupte \n"
      ]
    },
    {
      "cell_type": "markdown",
      "metadata": {
        "id": "Q5MwnkldGka7"
      },
      "source": [
        "Roll no : 33228"
      ]
    },
    {
      "cell_type": "code",
      "metadata": {
        "colab": {
          "base_uri": "https://localhost:8080/"
        },
        "id": "yLqWHXuYGlLi",
        "outputId": "9e6a9972-f8cb-4418-8eb8-4b5689fc9df3"
      },
      "source": [
        "from google.colab import drive\n",
        "drive.mount('/content/drive/')"
      ],
      "execution_count": null,
      "outputs": [
        {
          "output_type": "stream",
          "name": "stdout",
          "text": [
            "Mounted at /content/drive/\n"
          ]
        }
      ]
    },
    {
      "cell_type": "code",
      "metadata": {
        "id": "oxMVjHEwGn09"
      },
      "source": [
        "import pandas as pd\n",
        "import numpy as np\n",
        "import numpy as np\n",
        "import matplotlib.pyplot as plt\n",
        "import statistics as st\n",
        "%matplotlib inline"
      ],
      "execution_count": null,
      "outputs": []
    },
    {
      "cell_type": "code",
      "metadata": {
        "id": "mw7Aj7RXGunm"
      },
      "source": [
        "path =\"/content/drive/MyDrive/exams.csv\"\n",
        "df=pd.read_csv(path)"
      ],
      "execution_count": null,
      "outputs": []
    },
    {
      "cell_type": "code",
      "metadata": {
        "colab": {
          "base_uri": "https://localhost:8080/",
          "height": 203
        },
        "id": "zWE1w58tGyZ4",
        "outputId": "ba52e44b-2e99-4690-ad82-104a14e6e9a3"
      },
      "source": [
        "df.head()"
      ],
      "execution_count": null,
      "outputs": [
        {
          "output_type": "execute_result",
          "data": {
            "text/html": [
              "<div>\n",
              "<style scoped>\n",
              "    .dataframe tbody tr th:only-of-type {\n",
              "        vertical-align: middle;\n",
              "    }\n",
              "\n",
              "    .dataframe tbody tr th {\n",
              "        vertical-align: top;\n",
              "    }\n",
              "\n",
              "    .dataframe thead th {\n",
              "        text-align: right;\n",
              "    }\n",
              "</style>\n",
              "<table border=\"1\" class=\"dataframe\">\n",
              "  <thead>\n",
              "    <tr style=\"text-align: right;\">\n",
              "      <th></th>\n",
              "      <th>gender</th>\n",
              "      <th>race/ethnicity</th>\n",
              "      <th>parental level of education</th>\n",
              "      <th>lunch</th>\n",
              "      <th>test preparation course</th>\n",
              "      <th>math score</th>\n",
              "      <th>reading score</th>\n",
              "      <th>writing score</th>\n",
              "    </tr>\n",
              "  </thead>\n",
              "  <tbody>\n",
              "    <tr>\n",
              "      <th>0</th>\n",
              "      <td>female</td>\n",
              "      <td>group D</td>\n",
              "      <td>some high school</td>\n",
              "      <td>free/reduced</td>\n",
              "      <td>none</td>\n",
              "      <td>71</td>\n",
              "      <td>75</td>\n",
              "      <td>75</td>\n",
              "    </tr>\n",
              "    <tr>\n",
              "      <th>1</th>\n",
              "      <td>female</td>\n",
              "      <td>group E</td>\n",
              "      <td>some high school</td>\n",
              "      <td>standard</td>\n",
              "      <td>none</td>\n",
              "      <td>60</td>\n",
              "      <td>58</td>\n",
              "      <td>61</td>\n",
              "    </tr>\n",
              "    <tr>\n",
              "      <th>2</th>\n",
              "      <td>male</td>\n",
              "      <td>group C</td>\n",
              "      <td>bachelor's degree</td>\n",
              "      <td>free/reduced</td>\n",
              "      <td>completed</td>\n",
              "      <td>40</td>\n",
              "      <td>46</td>\n",
              "      <td>52</td>\n",
              "    </tr>\n",
              "    <tr>\n",
              "      <th>3</th>\n",
              "      <td>female</td>\n",
              "      <td>group C</td>\n",
              "      <td>associate's degree</td>\n",
              "      <td>free/reduced</td>\n",
              "      <td>completed</td>\n",
              "      <td>68</td>\n",
              "      <td>74</td>\n",
              "      <td>77</td>\n",
              "    </tr>\n",
              "    <tr>\n",
              "      <th>4</th>\n",
              "      <td>male</td>\n",
              "      <td>group C</td>\n",
              "      <td>associate's degree</td>\n",
              "      <td>standard</td>\n",
              "      <td>none</td>\n",
              "      <td>79</td>\n",
              "      <td>82</td>\n",
              "      <td>76</td>\n",
              "    </tr>\n",
              "  </tbody>\n",
              "</table>\n",
              "</div>"
            ],
            "text/plain": [
              "   gender race/ethnicity  ... reading score writing score\n",
              "0  female        group D  ...            75            75\n",
              "1  female        group E  ...            58            61\n",
              "2    male        group C  ...            46            52\n",
              "3  female        group C  ...            74            77\n",
              "4    male        group C  ...            82            76\n",
              "\n",
              "[5 rows x 8 columns]"
            ]
          },
          "metadata": {},
          "execution_count": 4
        }
      ]
    },
    {
      "cell_type": "code",
      "metadata": {
        "colab": {
          "base_uri": "https://localhost:8080/",
          "height": 417
        },
        "id": "Tv-H181kIlsq",
        "outputId": "31d6846e-96b6-49ac-9f23-b9e0ed0338e2"
      },
      "source": [
        "df.insert(0, 'ID', range(10101, 10101 + len(df)))\n",
        "df"
      ],
      "execution_count": null,
      "outputs": [
        {
          "output_type": "execute_result",
          "data": {
            "text/html": [
              "<div>\n",
              "<style scoped>\n",
              "    .dataframe tbody tr th:only-of-type {\n",
              "        vertical-align: middle;\n",
              "    }\n",
              "\n",
              "    .dataframe tbody tr th {\n",
              "        vertical-align: top;\n",
              "    }\n",
              "\n",
              "    .dataframe thead th {\n",
              "        text-align: right;\n",
              "    }\n",
              "</style>\n",
              "<table border=\"1\" class=\"dataframe\">\n",
              "  <thead>\n",
              "    <tr style=\"text-align: right;\">\n",
              "      <th></th>\n",
              "      <th>ID</th>\n",
              "      <th>gender</th>\n",
              "      <th>race/ethnicity</th>\n",
              "      <th>parental level of education</th>\n",
              "      <th>lunch</th>\n",
              "      <th>test preparation course</th>\n",
              "      <th>math score</th>\n",
              "      <th>reading score</th>\n",
              "      <th>writing score</th>\n",
              "    </tr>\n",
              "  </thead>\n",
              "  <tbody>\n",
              "    <tr>\n",
              "      <th>0</th>\n",
              "      <td>10101</td>\n",
              "      <td>female</td>\n",
              "      <td>group D</td>\n",
              "      <td>some high school</td>\n",
              "      <td>free/reduced</td>\n",
              "      <td>none</td>\n",
              "      <td>71</td>\n",
              "      <td>75</td>\n",
              "      <td>75</td>\n",
              "    </tr>\n",
              "    <tr>\n",
              "      <th>1</th>\n",
              "      <td>10102</td>\n",
              "      <td>female</td>\n",
              "      <td>group E</td>\n",
              "      <td>some high school</td>\n",
              "      <td>standard</td>\n",
              "      <td>none</td>\n",
              "      <td>60</td>\n",
              "      <td>58</td>\n",
              "      <td>61</td>\n",
              "    </tr>\n",
              "    <tr>\n",
              "      <th>2</th>\n",
              "      <td>10103</td>\n",
              "      <td>male</td>\n",
              "      <td>group C</td>\n",
              "      <td>bachelor's degree</td>\n",
              "      <td>free/reduced</td>\n",
              "      <td>completed</td>\n",
              "      <td>40</td>\n",
              "      <td>46</td>\n",
              "      <td>52</td>\n",
              "    </tr>\n",
              "    <tr>\n",
              "      <th>3</th>\n",
              "      <td>10104</td>\n",
              "      <td>female</td>\n",
              "      <td>group C</td>\n",
              "      <td>associate's degree</td>\n",
              "      <td>free/reduced</td>\n",
              "      <td>completed</td>\n",
              "      <td>68</td>\n",
              "      <td>74</td>\n",
              "      <td>77</td>\n",
              "    </tr>\n",
              "    <tr>\n",
              "      <th>4</th>\n",
              "      <td>10105</td>\n",
              "      <td>male</td>\n",
              "      <td>group C</td>\n",
              "      <td>associate's degree</td>\n",
              "      <td>standard</td>\n",
              "      <td>none</td>\n",
              "      <td>79</td>\n",
              "      <td>82</td>\n",
              "      <td>76</td>\n",
              "    </tr>\n",
              "    <tr>\n",
              "      <th>...</th>\n",
              "      <td>...</td>\n",
              "      <td>...</td>\n",
              "      <td>...</td>\n",
              "      <td>...</td>\n",
              "      <td>...</td>\n",
              "      <td>...</td>\n",
              "      <td>...</td>\n",
              "      <td>...</td>\n",
              "      <td>...</td>\n",
              "    </tr>\n",
              "    <tr>\n",
              "      <th>95</th>\n",
              "      <td>10196</td>\n",
              "      <td>female</td>\n",
              "      <td>group D</td>\n",
              "      <td>high school</td>\n",
              "      <td>standard</td>\n",
              "      <td>completed</td>\n",
              "      <td>83</td>\n",
              "      <td>84</td>\n",
              "      <td>86</td>\n",
              "    </tr>\n",
              "    <tr>\n",
              "      <th>96</th>\n",
              "      <td>10197</td>\n",
              "      <td>female</td>\n",
              "      <td>group E</td>\n",
              "      <td>associate's degree</td>\n",
              "      <td>standard</td>\n",
              "      <td>none</td>\n",
              "      <td>80</td>\n",
              "      <td>79</td>\n",
              "      <td>77</td>\n",
              "    </tr>\n",
              "    <tr>\n",
              "      <th>97</th>\n",
              "      <td>10198</td>\n",
              "      <td>male</td>\n",
              "      <td>group C</td>\n",
              "      <td>some high school</td>\n",
              "      <td>free/reduced</td>\n",
              "      <td>none</td>\n",
              "      <td>58</td>\n",
              "      <td>65</td>\n",
              "      <td>53</td>\n",
              "    </tr>\n",
              "    <tr>\n",
              "      <th>98</th>\n",
              "      <td>10199</td>\n",
              "      <td>male</td>\n",
              "      <td>group B</td>\n",
              "      <td>some college</td>\n",
              "      <td>free/reduced</td>\n",
              "      <td>completed</td>\n",
              "      <td>43</td>\n",
              "      <td>32</td>\n",
              "      <td>43</td>\n",
              "    </tr>\n",
              "    <tr>\n",
              "      <th>99</th>\n",
              "      <td>10200</td>\n",
              "      <td>female</td>\n",
              "      <td>group D</td>\n",
              "      <td>some high school</td>\n",
              "      <td>free/reduced</td>\n",
              "      <td>none</td>\n",
              "      <td>60</td>\n",
              "      <td>76</td>\n",
              "      <td>77</td>\n",
              "    </tr>\n",
              "  </tbody>\n",
              "</table>\n",
              "<p>100 rows × 9 columns</p>\n",
              "</div>"
            ],
            "text/plain": [
              "       ID  gender race/ethnicity  ... math score reading score writing score\n",
              "0   10101  female        group D  ...         71            75            75\n",
              "1   10102  female        group E  ...         60            58            61\n",
              "2   10103    male        group C  ...         40            46            52\n",
              "3   10104  female        group C  ...         68            74            77\n",
              "4   10105    male        group C  ...         79            82            76\n",
              "..    ...     ...            ...  ...        ...           ...           ...\n",
              "95  10196  female        group D  ...         83            84            86\n",
              "96  10197  female        group E  ...         80            79            77\n",
              "97  10198    male        group C  ...         58            65            53\n",
              "98  10199    male        group B  ...         43            32            43\n",
              "99  10200  female        group D  ...         60            76            77\n",
              "\n",
              "[100 rows x 9 columns]"
            ]
          },
          "metadata": {},
          "execution_count": 5
        }
      ]
    },
    {
      "cell_type": "code",
      "metadata": {
        "colab": {
          "base_uri": "https://localhost:8080/",
          "height": 203
        },
        "id": "P0cxcBWzQiA1",
        "outputId": "a90eee3c-a56c-428b-a9df-8aa575660896"
      },
      "source": [
        "df['total score']=df['math score']+df['reading score']+df['writing score']\n",
        "df.head()"
      ],
      "execution_count": null,
      "outputs": [
        {
          "output_type": "execute_result",
          "data": {
            "text/html": [
              "<div>\n",
              "<style scoped>\n",
              "    .dataframe tbody tr th:only-of-type {\n",
              "        vertical-align: middle;\n",
              "    }\n",
              "\n",
              "    .dataframe tbody tr th {\n",
              "        vertical-align: top;\n",
              "    }\n",
              "\n",
              "    .dataframe thead th {\n",
              "        text-align: right;\n",
              "    }\n",
              "</style>\n",
              "<table border=\"1\" class=\"dataframe\">\n",
              "  <thead>\n",
              "    <tr style=\"text-align: right;\">\n",
              "      <th></th>\n",
              "      <th>ID</th>\n",
              "      <th>gender</th>\n",
              "      <th>race/ethnicity</th>\n",
              "      <th>parental level of education</th>\n",
              "      <th>lunch</th>\n",
              "      <th>test preparation course</th>\n",
              "      <th>math score</th>\n",
              "      <th>reading score</th>\n",
              "      <th>writing score</th>\n",
              "      <th>total score</th>\n",
              "    </tr>\n",
              "  </thead>\n",
              "  <tbody>\n",
              "    <tr>\n",
              "      <th>0</th>\n",
              "      <td>10101</td>\n",
              "      <td>female</td>\n",
              "      <td>group D</td>\n",
              "      <td>some high school</td>\n",
              "      <td>free/reduced</td>\n",
              "      <td>none</td>\n",
              "      <td>71</td>\n",
              "      <td>75</td>\n",
              "      <td>75</td>\n",
              "      <td>221</td>\n",
              "    </tr>\n",
              "    <tr>\n",
              "      <th>1</th>\n",
              "      <td>10102</td>\n",
              "      <td>female</td>\n",
              "      <td>group E</td>\n",
              "      <td>some high school</td>\n",
              "      <td>standard</td>\n",
              "      <td>none</td>\n",
              "      <td>60</td>\n",
              "      <td>58</td>\n",
              "      <td>61</td>\n",
              "      <td>179</td>\n",
              "    </tr>\n",
              "    <tr>\n",
              "      <th>2</th>\n",
              "      <td>10103</td>\n",
              "      <td>male</td>\n",
              "      <td>group C</td>\n",
              "      <td>bachelor's degree</td>\n",
              "      <td>free/reduced</td>\n",
              "      <td>completed</td>\n",
              "      <td>40</td>\n",
              "      <td>46</td>\n",
              "      <td>52</td>\n",
              "      <td>138</td>\n",
              "    </tr>\n",
              "    <tr>\n",
              "      <th>3</th>\n",
              "      <td>10104</td>\n",
              "      <td>female</td>\n",
              "      <td>group C</td>\n",
              "      <td>associate's degree</td>\n",
              "      <td>free/reduced</td>\n",
              "      <td>completed</td>\n",
              "      <td>68</td>\n",
              "      <td>74</td>\n",
              "      <td>77</td>\n",
              "      <td>219</td>\n",
              "    </tr>\n",
              "    <tr>\n",
              "      <th>4</th>\n",
              "      <td>10105</td>\n",
              "      <td>male</td>\n",
              "      <td>group C</td>\n",
              "      <td>associate's degree</td>\n",
              "      <td>standard</td>\n",
              "      <td>none</td>\n",
              "      <td>79</td>\n",
              "      <td>82</td>\n",
              "      <td>76</td>\n",
              "      <td>237</td>\n",
              "    </tr>\n",
              "  </tbody>\n",
              "</table>\n",
              "</div>"
            ],
            "text/plain": [
              "      ID  gender race/ethnicity  ... reading score writing score total score\n",
              "0  10101  female        group D  ...            75            75         221\n",
              "1  10102  female        group E  ...            58            61         179\n",
              "2  10103    male        group C  ...            46            52         138\n",
              "3  10104  female        group C  ...            74            77         219\n",
              "4  10105    male        group C  ...            82            76         237\n",
              "\n",
              "[5 rows x 10 columns]"
            ]
          },
          "metadata": {},
          "execution_count": 32
        }
      ]
    },
    {
      "cell_type": "markdown",
      "metadata": {
        "id": "iFZ8t-XuMbR3"
      },
      "source": [
        "**Normal Distribution of math score :** "
      ]
    },
    {
      "cell_type": "code",
      "metadata": {
        "colab": {
          "base_uri": "https://localhost:8080/"
        },
        "id": "I1ZNfY_6JjUQ",
        "outputId": "14e84abb-f56c-48aa-f743-40c30976eb9d"
      },
      "source": [
        "mean = df['math score'].mean()\n",
        "print(\"Mean               : \",mean)\n",
        "sd = st.stdev(df['math score'])\n",
        "print(\"Standard Deviation : \",sd)\n",
        "print(\"Min math score     : \", df['math score'].min())\n",
        "print(\"Max math score     : \", df['math score'].max())\n"
      ],
      "execution_count": null,
      "outputs": [
        {
          "output_type": "stream",
          "name": "stdout",
          "text": [
            "Mean               :  67.68\n",
            "Standard Deviation :  16.54188439670461\n",
            "Min math score     :  29\n",
            "Max math score     :  100\n"
          ]
        }
      ]
    },
    {
      "cell_type": "code",
      "metadata": {
        "colab": {
          "base_uri": "https://localhost:8080/",
          "height": 312
        },
        "id": "jMaGlIlOWC4Q",
        "outputId": "f53b95fc-e178-432d-df9c-d28801a5ba3a"
      },
      "source": [
        "from scipy.stats import norm\n",
        "x=np.array(df['math score'])\n",
        "x.sort()\n",
        "z=(x-mean)/sd\n",
        "plt.title('Normal Distribution of math score')\n",
        "plt.plot(z, norm.pdf(x, mean, sd), color='orange')\n",
        "plt.xlabel('Z score')"
      ],
      "execution_count": null,
      "outputs": [
        {
          "output_type": "execute_result",
          "data": {
            "text/plain": [
              "Text(0.5, 0, 'Z score')"
            ]
          },
          "metadata": {},
          "execution_count": 37
        },
        {
          "output_type": "display_data",
          "data": {
            "image/png": "[encoded data removed]",
            "text/plain": [
              "<Figure size 432x288 with 1 Axes>"
            ]
          },
          "metadata": {
            "needs_background": "light"
          }
        }
      ]
    },
    {
      "cell_type": "markdown",
      "metadata": {
        "id": "zXxftYj1pL6A"
      },
      "source": [
        "**Skewness (Total score) :**"
      ]
    },
    {
      "cell_type": "code",
      "metadata": {
        "id": "Mq89I9jzR294"
      },
      "source": [
        "y=np.array(df['total score'])\n",
        "mean1 = df['total score'].mean()\n",
        "sd1 = st.stdev(df['total score'])"
      ],
      "execution_count": null,
      "outputs": []
    },
    {
      "cell_type": "code",
      "metadata": {
        "colab": {
          "base_uri": "https://localhost:8080/"
        },
        "id": "IwHJsn3XMFox",
        "outputId": "62fb064c-a12b-44f3-8c19-0d134e7a22ba"
      },
      "source": [
        "m3=sum((y-mean1)**3)/100\n",
        "m2=sum((y-mean1)**2)/100\n",
        "sk = m3/(m2**(1.5))\n",
        "print(\"Skewness of total score :\", sk)"
      ],
      "execution_count": null,
      "outputs": [
        {
          "output_type": "stream",
          "name": "stdout",
          "text": [
            "Skewness of total score : -0.1741663549359026\n"
          ]
        }
      ]
    },
    {
      "cell_type": "code",
      "metadata": {
        "colab": {
          "base_uri": "https://localhost:8080/"
        },
        "id": "cRq8_WxDNIeU",
        "outputId": "c5952980-ff3c-4d22-e8d6-fd8491d19c30"
      },
      "source": [
        "from scipy.stats import skew\n",
        "print(\"Skewness using in-built function : \",skew(y))"
      ],
      "execution_count": null,
      "outputs": [
        {
          "output_type": "stream",
          "name": "stdout",
          "text": [
            "Skewness using in-built function :  -0.17416635493590243\n"
          ]
        }
      ]
    },
    {
      "cell_type": "markdown",
      "metadata": {
        "id": "35lWCT_0VXHB"
      },
      "source": [
        "Negative value of skewness means that the data is skewed left. By skewed left, we mean that the left tail is long relative to the right tail."
      ]
    },
    {
      "cell_type": "markdown",
      "metadata": {
        "id": "MaZYgeI_OCgr"
      },
      "source": [
        "**Pearson's second coefficient of skewness :**"
      ]
    },
    {
      "cell_type": "code",
      "metadata": {
        "colab": {
          "base_uri": "https://localhost:8080/"
        },
        "id": "YCzRBZy7ki70",
        "outputId": "ddea1327-a2fa-4a08-fd03-e8f5e661ef15"
      },
      "source": [
        "med=df['total score'].median()\n",
        "sk = (3*(mean1-med))/sd1\n",
        "print(sk)"
      ],
      "execution_count": null,
      "outputs": [
        {
          "output_type": "stream",
          "name": "stdout",
          "text": [
            "0.003919450912039832\n"
          ]
        }
      ]
    },
    {
      "cell_type": "markdown",
      "metadata": {
        "id": "9Khri2TaONlt"
      },
      "source": [
        "Since the value of Pearson's coefficient of skewness is between -0.5 and 0.5, the data is nearly symmetrical."
      ]
    },
    {
      "cell_type": "markdown",
      "metadata": {
        "id": "4SRql_juO7zV"
      },
      "source": [
        "**Kurtosis(totsl score) :**"
      ]
    },
    {
      "cell_type": "code",
      "metadata": {
        "colab": {
          "base_uri": "https://localhost:8080/"
        },
        "id": "UfVtRExwO0KP",
        "outputId": "f2413e00-19d7-4d35-fcdb-7f23f3aff43e"
      },
      "source": [
        "m4 = sum((y-mean1)**4)/100\n",
        "kr = m4/(m2**2)\n",
        "print(\"Kurtosis        : \", kr)\n",
        "print(\"Excess Kurtosis :\",kr-3)"
      ],
      "execution_count": null,
      "outputs": [
        {
          "output_type": "stream",
          "name": "stdout",
          "text": [
            "Kurtosis        :  2.5890539810432673\n",
            "Excess Kurtosis : -0.41094601895673266\n"
          ]
        }
      ]
    },
    {
      "cell_type": "code",
      "metadata": {
        "colab": {
          "base_uri": "https://localhost:8080/"
        },
        "id": "634k1RWbQJnA",
        "outputId": "3230309d-8496-4b44-fec6-b432e3bb4bb6"
      },
      "source": [
        "from scipy.stats import kurtosis\n",
        "print(\"Kurtosis using in-built function :\",kurtosis(y))"
      ],
      "execution_count": null,
      "outputs": [
        {
          "output_type": "stream",
          "name": "stdout",
          "text": [
            "Kurtosis using in-built function : -0.4109460189567331\n"
          ]
        }
      ]
    },
    {
      "cell_type": "markdown",
      "metadata": {
        "id": "ioA8YkcAWhaO"
      },
      "source": [
        "Here the value of an excess kurtosis is negative. Hence the distribution is platykurtic. This kind of distribution has a tail that's thinner than a normal distribution."
      ]
    },
    {
      "cell_type": "markdown",
      "metadata": {
        "id": "-mn2BHvqW2RP"
      },
      "source": [
        "**Data Visualization :**"
      ]
    },
    {
      "cell_type": "markdown",
      "metadata": {
        "id": "3-zObJsqgBKO"
      },
      "source": [
        "Histogram"
      ]
    },
    {
      "cell_type": "code",
      "metadata": {
        "colab": {
          "base_uri": "https://localhost:8080/",
          "height": 312
        },
        "id": "fl3p-XguW1n1",
        "outputId": "f1728e45-9453-4e3c-a81f-e32771d0d914"
      },
      "source": [
        "x=['0-50', '51-100', '101-150', '151-200','201-250', '250-300']\n",
        " \n",
        "plt.hist(df['total score'],color ='skyblue', alpha=1,histtype='stepfilled')\n",
        " \n",
        "plt.xlabel(\"Total scores\")\n",
        "plt.ylabel(\"No. of students\")\n",
        "plt.title(\"Student Result\")\n"
      ],
      "execution_count": null,
      "outputs": [
        {
          "output_type": "execute_result",
          "data": {
            "text/plain": [
              "Text(0.5, 1.0, 'Student Result')"
            ]
          },
          "metadata": {},
          "execution_count": 74
        },
        {
          "output_type": "display_data",
          "data": {
            "image/png": "[encoded data removed]",
            "text/plain": [
              "<Figure size 432x288 with 1 Axes>"
            ]
          },
          "metadata": {
            "needs_background": "light"
          }
        }
      ]
    },
    {
      "cell_type": "markdown",
      "metadata": {
        "id": "TUNy8FezgEmd"
      },
      "source": [
        "Pie Chart"
      ]
    },
    {
      "cell_type": "code",
      "metadata": {
        "colab": {
          "base_uri": "https://localhost:8080/",
          "height": 281
        },
        "id": "ClQnN7DXapdB",
        "outputId": "ec642608-6f58-43ab-f0c4-fb80ae7ef124"
      },
      "source": [
        "mylabels=['Group C', 'Group D','Group B','Group E','Group A']\n",
        "l1=list(df['race/ethnicity'].value_counts())\n",
        "colors =['orange', 'lavender','skyblue','salmon','lightgreen']\n",
        "plt.pie(l1, labels = mylabels,  shadow = True,startangle = 90, colors=colors,autopct='%1.1f%%')\n",
        "plt.title('Race/Ethnicity') "
      ],
      "execution_count": null,
      "outputs": [
        {
          "output_type": "execute_result",
          "data": {
            "text/plain": [
              "Text(0.5, 1.0, 'Race/Ethnicity')"
            ]
          },
          "metadata": {},
          "execution_count": 111
        },
        {
          "output_type": "display_data",
          "data": {
            "image/png": "[encoded data removed]",
            "text/plain": [
              "<Figure size 432x288 with 1 Axes>"
            ]
          },
          "metadata": {}
        }
      ]
    }
  ]
}