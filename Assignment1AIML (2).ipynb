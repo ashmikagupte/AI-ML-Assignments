{
  "nbformat": 4,
  "nbformat_minor": 0,
  "metadata": {
    "colab": {
      "name": "Assignment1AIML.ipynb",
      "provenance": [],
      "collapsed_sections": []
    },
    "kernelspec": {
      "name": "python3",
      "display_name": "Python 3"
    },
    "language_info": {
      "name": "python"
    }
  },
  "cells": [
    {
      "cell_type": "markdown",
      "metadata": {
        "id": "p6uxaZfLoz_P"
      },
      "source": [
        "**Assignment 1**\n",
        "\n",
        "\n"
      ]
    },
    {
      "cell_type": "markdown",
      "metadata": {
        "id": "9hjM9FQvpInH"
      },
      "source": [
        "Name    : Ashmika Gupte\n"
      ]
    },
    {
      "cell_type": "markdown",
      "metadata": {
        "id": "wRo97DBMpOd6"
      },
      "source": [
        "Roll no : 33228"
      ]
    },
    {
      "cell_type": "code",
      "metadata": {
        "colab": {
          "base_uri": "https://localhost:8080/"
        },
        "id": "p2fHWQil_IwN",
        "outputId": "661626f0-012e-4011-d410-948e777866b8"
      },
      "source": [
        "from google.colab import drive\n",
        "drive.mount('/content/drive/')"
      ],
      "execution_count": null,
      "outputs": [
        {
          "output_type": "stream",
          "text": [
            "Mounted at /content/drive/\n"
          ],
          "name": "stdout"
        }
      ]
    },
    {
      "cell_type": "code",
      "metadata": {
        "id": "o3hgD4OGElw6"
      },
      "source": [
        "import pandas as pd\n",
        "import numpy as np"
      ],
      "execution_count": null,
      "outputs": []
    },
    {
      "cell_type": "code",
      "metadata": {
        "id": "7HBxjE_VEroa"
      },
      "source": [
        "path =\"/content/drive/MyDrive/infy data.csv\"\n",
        "df=pd.read_csv(path)"
      ],
      "execution_count": null,
      "outputs": []
    },
    {
      "cell_type": "code",
      "metadata": {
        "colab": {
          "base_uri": "https://localhost:8080/",
          "height": 590
        },
        "id": "wdskPBfQE9z3",
        "outputId": "aaf1e3e0-a3f3-4c0f-e2a3-9b6354c4fda0"
      },
      "source": [
        "df"
      ],
      "execution_count": null,
      "outputs": [
        {
          "output_type": "execute_result",
          "data": {
            "text/html": [
              "<div>\n",
              "<style scoped>\n",
              "    .dataframe tbody tr th:only-of-type {\n",
              "        vertical-align: middle;\n",
              "    }\n",
              "\n",
              "    .dataframe tbody tr th {\n",
              "        vertical-align: top;\n",
              "    }\n",
              "\n",
              "    .dataframe thead th {\n",
              "        text-align: right;\n",
              "    }\n",
              "</style>\n",
              "<table border=\"1\" class=\"dataframe\">\n",
              "  <thead>\n",
              "    <tr style=\"text-align: right;\">\n",
              "      <th></th>\n",
              "      <th>Symbol</th>\n",
              "      <th>Date</th>\n",
              "      <th>Prev Close</th>\n",
              "      <th>Open Price</th>\n",
              "      <th>High Price</th>\n",
              "      <th>Low Price</th>\n",
              "      <th>Last Price</th>\n",
              "      <th>Close Price</th>\n",
              "      <th>Average Price</th>\n",
              "      <th>Total Traded Quantity</th>\n",
              "      <th>Turnover</th>\n",
              "      <th>No. of Trades</th>\n",
              "      <th>Deliverable Qty</th>\n",
              "      <th>% Dly Qt to Traded Qty</th>\n",
              "    </tr>\n",
              "  </thead>\n",
              "  <tbody>\n",
              "    <tr>\n",
              "      <th>0</th>\n",
              "      <td>INFY</td>\n",
              "      <td>29-Jul-21</td>\n",
              "      <td>1605.60</td>\n",
              "      <td>1600.10</td>\n",
              "      <td>1620.00</td>\n",
              "      <td>1600.10</td>\n",
              "      <td>1615.50</td>\n",
              "      <td>1617.00</td>\n",
              "      <td>1614.80</td>\n",
              "      <td>4660873</td>\n",
              "      <td>7526375522</td>\n",
              "      <td>144550</td>\n",
              "      <td>2926321</td>\n",
              "      <td>62.78</td>\n",
              "    </tr>\n",
              "    <tr>\n",
              "      <th>1</th>\n",
              "      <td>INFY</td>\n",
              "      <td>30-Jul-21</td>\n",
              "      <td>1617.00</td>\n",
              "      <td>1610.00</td>\n",
              "      <td>1623.40</td>\n",
              "      <td>1606.15</td>\n",
              "      <td>1611.75</td>\n",
              "      <td>1610.50</td>\n",
              "      <td>1613.35</td>\n",
              "      <td>6234257</td>\n",
              "      <td>10058016360</td>\n",
              "      <td>136907</td>\n",
              "      <td>4485149</td>\n",
              "      <td>71.94</td>\n",
              "    </tr>\n",
              "    <tr>\n",
              "      <th>2</th>\n",
              "      <td>INFY</td>\n",
              "      <td>02-Aug-21</td>\n",
              "      <td>1610.50</td>\n",
              "      <td>1627.45</td>\n",
              "      <td>1634.75</td>\n",
              "      <td>1619.20</td>\n",
              "      <td>1632.00</td>\n",
              "      <td>1631.55</td>\n",
              "      <td>1627.56</td>\n",
              "      <td>5553389</td>\n",
              "      <td>9038450771</td>\n",
              "      <td>123236</td>\n",
              "      <td>4318503</td>\n",
              "      <td>77.76</td>\n",
              "    </tr>\n",
              "    <tr>\n",
              "      <th>3</th>\n",
              "      <td>INFY</td>\n",
              "      <td>03-Aug-21</td>\n",
              "      <td>1631.55</td>\n",
              "      <td>1647.00</td>\n",
              "      <td>1658.65</td>\n",
              "      <td>1635.60</td>\n",
              "      <td>1657.00</td>\n",
              "      <td>1655.20</td>\n",
              "      <td>1645.86</td>\n",
              "      <td>5513668</td>\n",
              "      <td>9074703957</td>\n",
              "      <td>140415</td>\n",
              "      <td>3887460</td>\n",
              "      <td>70.51</td>\n",
              "    </tr>\n",
              "    <tr>\n",
              "      <th>4</th>\n",
              "      <td>INFY</td>\n",
              "      <td>04-Aug-21</td>\n",
              "      <td>1655.20</td>\n",
              "      <td>1669.10</td>\n",
              "      <td>1679.90</td>\n",
              "      <td>1639.05</td>\n",
              "      <td>1648.55</td>\n",
              "      <td>1649.25</td>\n",
              "      <td>1653.26</td>\n",
              "      <td>6740391</td>\n",
              "      <td>11143605331</td>\n",
              "      <td>152430</td>\n",
              "      <td>4752601</td>\n",
              "      <td>70.51</td>\n",
              "    </tr>\n",
              "    <tr>\n",
              "      <th>5</th>\n",
              "      <td>INFY</td>\n",
              "      <td>05-Aug-21</td>\n",
              "      <td>1649.25</td>\n",
              "      <td>1649.50</td>\n",
              "      <td>1666.00</td>\n",
              "      <td>1647.05</td>\n",
              "      <td>1652.00</td>\n",
              "      <td>1653.55</td>\n",
              "      <td>1655.81</td>\n",
              "      <td>5420536</td>\n",
              "      <td>8975400927</td>\n",
              "      <td>124049</td>\n",
              "      <td>3761486</td>\n",
              "      <td>69.39</td>\n",
              "    </tr>\n",
              "    <tr>\n",
              "      <th>6</th>\n",
              "      <td>INFY</td>\n",
              "      <td>06-Aug-21</td>\n",
              "      <td>1653.55</td>\n",
              "      <td>1657.00</td>\n",
              "      <td>1660.65</td>\n",
              "      <td>1644.00</td>\n",
              "      <td>1652.10</td>\n",
              "      <td>1650.20</td>\n",
              "      <td>1652.90</td>\n",
              "      <td>3754855</td>\n",
              "      <td>6206401477</td>\n",
              "      <td>100454</td>\n",
              "      <td>2558438</td>\n",
              "      <td>68.14</td>\n",
              "    </tr>\n",
              "    <tr>\n",
              "      <th>7</th>\n",
              "      <td>INFY</td>\n",
              "      <td>09-Aug-21</td>\n",
              "      <td>1650.20</td>\n",
              "      <td>1661.00</td>\n",
              "      <td>1667.45</td>\n",
              "      <td>1646.40</td>\n",
              "      <td>1664.40</td>\n",
              "      <td>1663.30</td>\n",
              "      <td>1656.74</td>\n",
              "      <td>5018477</td>\n",
              "      <td>8314309678</td>\n",
              "      <td>113096</td>\n",
              "      <td>3673439</td>\n",
              "      <td>73.20</td>\n",
              "    </tr>\n",
              "    <tr>\n",
              "      <th>8</th>\n",
              "      <td>INFY</td>\n",
              "      <td>10-Aug-21</td>\n",
              "      <td>1663.30</td>\n",
              "      <td>1668.00</td>\n",
              "      <td>1680.00</td>\n",
              "      <td>1661.05</td>\n",
              "      <td>1674.15</td>\n",
              "      <td>1677.25</td>\n",
              "      <td>1674.29</td>\n",
              "      <td>6846517</td>\n",
              "      <td>11463058438</td>\n",
              "      <td>135096</td>\n",
              "      <td>5175394</td>\n",
              "      <td>75.59</td>\n",
              "    </tr>\n",
              "    <tr>\n",
              "      <th>9</th>\n",
              "      <td>INFY</td>\n",
              "      <td>11-Aug-21</td>\n",
              "      <td>1677.25</td>\n",
              "      <td>1674.80</td>\n",
              "      <td>1684.00</td>\n",
              "      <td>1668.00</td>\n",
              "      <td>1675.10</td>\n",
              "      <td>1677.55</td>\n",
              "      <td>1676.00</td>\n",
              "      <td>4899639</td>\n",
              "      <td>8211808502</td>\n",
              "      <td>149326</td>\n",
              "      <td>3586596</td>\n",
              "      <td>73.20</td>\n",
              "    </tr>\n",
              "    <tr>\n",
              "      <th>10</th>\n",
              "      <td>INFY</td>\n",
              "      <td>12-Aug-21</td>\n",
              "      <td>1677.55</td>\n",
              "      <td>1679.15</td>\n",
              "      <td>1696.50</td>\n",
              "      <td>1674.00</td>\n",
              "      <td>1684.95</td>\n",
              "      <td>1689.60</td>\n",
              "      <td>1687.65</td>\n",
              "      <td>5659579</td>\n",
              "      <td>9551399368</td>\n",
              "      <td>152218</td>\n",
              "      <td>4217591</td>\n",
              "      <td>74.52</td>\n",
              "    </tr>\n",
              "  </tbody>\n",
              "</table>\n",
              "</div>"
            ],
            "text/plain": [
              "   Symbol       Date  ...  Deliverable Qty  % Dly Qt to Traded Qty\n",
              "0    INFY  29-Jul-21  ...          2926321                   62.78\n",
              "1    INFY  30-Jul-21  ...          4485149                   71.94\n",
              "2    INFY  02-Aug-21  ...          4318503                   77.76\n",
              "3    INFY  03-Aug-21  ...          3887460                   70.51\n",
              "4    INFY  04-Aug-21  ...          4752601                   70.51\n",
              "5    INFY  05-Aug-21  ...          3761486                   69.39\n",
              "6    INFY  06-Aug-21  ...          2558438                   68.14\n",
              "7    INFY  09-Aug-21  ...          3673439                   73.20\n",
              "8    INFY  10-Aug-21  ...          5175394                   75.59\n",
              "9    INFY  11-Aug-21  ...          3586596                   73.20\n",
              "10   INFY  12-Aug-21  ...          4217591                   74.52\n",
              "\n",
              "[11 rows x 14 columns]"
            ]
          },
          "metadata": {},
          "execution_count": 4
        }
      ]
    },
    {
      "cell_type": "markdown",
      "metadata": {
        "id": "48rkKEUj4KOS"
      },
      "source": [
        "# Without using in-built functions : "
      ]
    },
    {
      "cell_type": "markdown",
      "metadata": {
        "id": "L-_gRjlB4RhR"
      },
      "source": [
        "Mean"
      ]
    },
    {
      "cell_type": "code",
      "metadata": {
        "colab": {
          "base_uri": "https://localhost:8080/"
        },
        "id": "JkAqIUtF4gcP",
        "outputId": "cdffa35a-1a1b-4edc-bb71-4d96d76ac3d2"
      },
      "source": [
        "mean = (df['Close Price'].sum())/df['Close Price'].count()\n",
        "print(\"Mean : \",mean)"
      ],
      "execution_count": null,
      "outputs": [
        {
          "output_type": "stream",
          "text": [
            "Mean :  1652.2681818181816\n"
          ],
          "name": "stdout"
        }
      ]
    },
    {
      "cell_type": "markdown",
      "metadata": {
        "id": "Egu8grg74bmM"
      },
      "source": [
        "Variance"
      ]
    },
    {
      "cell_type": "code",
      "metadata": {
        "colab": {
          "base_uri": "https://localhost:8080/"
        },
        "id": "DHX_nvU85OJx",
        "outputId": "a7777161-1f3e-4000-e4c4-df26d434ef1c"
      },
      "source": [
        "variance = ((df['Close Price']-mean)**2).sum()/(df['Close Price'].count()-1)\n",
        "print(\"Variance : \",variance)"
      ],
      "execution_count": null,
      "outputs": [
        {
          "output_type": "stream",
          "text": [
            "Variance :  621.9921363636356\n"
          ],
          "name": "stdout"
        }
      ]
    },
    {
      "cell_type": "markdown",
      "metadata": {
        "id": "PbHGryQ14coF"
      },
      "source": [
        "Standard Deviation"
      ]
    },
    {
      "cell_type": "code",
      "metadata": {
        "colab": {
          "base_uri": "https://localhost:8080/"
        },
        "id": "xmET8XCp8pXq",
        "outputId": "9ec91d88-659d-4921-f377-38af71c8c32a"
      },
      "source": [
        "sd = (((df['Close Price']-mean)**2).sum()/(df['Close Price'].count()))**0.5\n",
        "print(\"Standard Deviation : \",sd)"
      ],
      "execution_count": null,
      "outputs": [
        {
          "output_type": "stream",
          "text": [
            "Standard Deviation :  23.779137845897907\n"
          ],
          "name": "stdout"
        }
      ]
    },
    {
      "cell_type": "markdown",
      "metadata": {
        "id": "82MfJdgg4erR"
      },
      "source": [
        "Standard Error"
      ]
    },
    {
      "cell_type": "code",
      "metadata": {
        "colab": {
          "base_uri": "https://localhost:8080/"
        },
        "id": "Xuiac-JLFAcZ",
        "outputId": "2c3dcc6b-d365-4e19-eb3b-8a91cb477d90"
      },
      "source": [
        "se = sd/(df['Close Price'].count()-1)**0.5\n",
        "print(\"Standard Error : \",se)"
      ],
      "execution_count": null,
      "outputs": [
        {
          "output_type": "stream",
          "text": [
            "Standard Error :  7.519623638814738\n"
          ],
          "name": "stdout"
        }
      ]
    },
    {
      "cell_type": "markdown",
      "metadata": {
        "id": "7ScyAJ1d-bwh"
      },
      "source": [
        "Covariance between Close Price and Open Price"
      ]
    },
    {
      "cell_type": "code",
      "metadata": {
        "colab": {
          "base_uri": "https://localhost:8080/"
        },
        "id": "ffCu1s9A-d2v",
        "outputId": "0b4238a4-6b2b-4d0a-e3de-abb203714920"
      },
      "source": [
        "mean_close = (df['Close Price'].sum())/df['Close Price'].count()\n",
        "mean_open = (df['Open Price'].sum())/df['Open Price'].count()\n",
        "cov = ((df['Close Price']-mean_close)*(df['Open Price']-mean_open)).sum()/(df['Close Price'].count()-1)\n",
        "print(\"Covariance : \",cov)"
      ],
      "execution_count": null,
      "outputs": [
        {
          "output_type": "stream",
          "text": [
            "Covariance :  610.2477954545457\n"
          ],
          "name": "stdout"
        }
      ]
    },
    {
      "cell_type": "markdown",
      "metadata": {
        "id": "k8sKnsiSE80p"
      },
      "source": [
        "Correlation between Close Price and Open Price"
      ]
    },
    {
      "cell_type": "code",
      "metadata": {
        "colab": {
          "base_uri": "https://localhost:8080/"
        },
        "id": "sKiN7KlZFD6x",
        "outputId": "23a9c4d6-100d-4b24-eaa7-756b87fbcdef"
      },
      "source": [
        "variance_open = ((df['Open Price']-mean_open)**2).sum()/(df['Open Price'].count()-1)\n",
        "cor = cov/(variance*variance_open)**0.5\n",
        "print(\"Correlation : \",cor)\n"
      ],
      "execution_count": null,
      "outputs": [
        {
          "output_type": "stream",
          "text": [
            "Correlation :  0.9296960046419306\n"
          ],
          "name": "stdout"
        }
      ]
    },
    {
      "cell_type": "markdown",
      "metadata": {
        "id": "JIPR--HfbllW"
      },
      "source": [
        "Distribution of samples :"
      ]
    },
    {
      "cell_type": "code",
      "metadata": {
        "colab": {
          "base_uri": "https://localhost:8080/",
          "height": 366
        },
        "id": "AMHSI_RzWWQo",
        "outputId": "edb38d45-c407-4288-8d53-64881ed33717"
      },
      "source": [
        "import matplotlib.pyplot as plt\n",
        "%matplotlib inline\n",
        "\n",
        "plt.figure(figsize=(10, 5))\n",
        "\n",
        "plt.plot(df['Date'],df['High Price'],color='purple', marker='o', alpha=0.6)\n",
        "plt.plot(df['Date'],df['Low Price'], color='orange',marker='o')\n",
        "\n",
        "plt.xticks(fontsize=9)\n",
        "\n",
        "plt.title('Price vs Date')\n",
        "plt.xlabel('Date')\n",
        "plt.ylabel('Price')\n",
        "\n",
        "plt.legend([\"High Price\" , \"Low Price\"])"
      ],
      "execution_count": null,
      "outputs": [
        {
          "output_type": "execute_result",
          "data": {
            "text/plain": [
              "<matplotlib.legend.Legend at 0x7f084c1fdc50>"
            ]
          },
          "metadata": {},
          "execution_count": 42
        },
        {
          "output_type": "display_data",
          "data": {
            "image/png": "[encoded data removed]",
            "text/plain": [
              "<Figure size 720x360 with 1 Axes>"
            ]
          },
          "metadata": {
            "needs_background": "light"
          }
        }
      ]
    },
    {
      "cell_type": "code",
      "metadata": {
        "colab": {
          "base_uri": "https://localhost:8080/",
          "height": 366
        },
        "id": "BeCZIJBil7iy",
        "outputId": "6a268a06-a5a3-43a1-8af5-57f5a881f587"
      },
      "source": [
        "plt.figure(figsize=(11, 5))\n",
        "\n",
        "plt.bar(df['Date'], df['Turnover'],color='lightcoral', width=0.5)\n",
        "\n",
        "plt.xticks(fontsize=9)\n",
        "\n",
        "plt.title(\"Turnover vs Date\")\n",
        "plt.xlabel('Date')\n",
        "plt.ylabel('Turnover')"
      ],
      "execution_count": null,
      "outputs": [
        {
          "output_type": "execute_result",
          "data": {
            "text/plain": [
              "Text(0, 0.5, 'Turnover')"
            ]
          },
          "metadata": {},
          "execution_count": 43
        },
        {
          "output_type": "display_data",
          "data": {
            "image/png": "[encoded data removed]",
            "text/plain": [
              "<Figure size 792x360 with 1 Axes>"
            ]
          },
          "metadata": {
            "needs_background": "light"
          }
        }
      ]
    }
  ]
}